{
  "nbformat": 4,
  "nbformat_minor": 0,
  "metadata": {
    "colab": {
      "provenance": [],
      "authorship_tag": "ABX9TyOLssPmvzFH8aBgtcEx/llg",
      "include_colab_link": true
    },
    "kernelspec": {
      "name": "python3",
      "display_name": "Python 3"
    },
    "language_info": {
      "name": "python"
    }
  },
  "cells": [
    {
      "cell_type": "markdown",
      "metadata": {
        "id": "view-in-github",
        "colab_type": "text"
      },
      "source": [
        "<a href=\"https://colab.research.google.com/github/vcdemy/pandas/blob/main/pandas_Categorical.ipynb\" target=\"_parent\"><img src=\"https://colab.research.google.com/assets/colab-badge.svg\" alt=\"Open In Colab\"/></a>"
      ]
    },
    {
      "cell_type": "markdown",
      "source": [
        "# 類別變量"
      ],
      "metadata": {
        "id": "NlkeWpvxxVUu"
      }
    },
    {
      "cell_type": "markdown",
      "source": [
        "https://pandas.pydata.org/docs/reference/api/pandas.Categorical.html"
      ],
      "metadata": {
        "id": "65_tMSm7togq"
      }
    },
    {
      "cell_type": "code",
      "execution_count": 2,
      "metadata": {
        "id": "mCgiLuH9u4i3"
      },
      "outputs": [],
      "source": [
        "import numpy as np\n",
        "import pandas as pd"
      ]
    },
    {
      "cell_type": "code",
      "source": [
        "import random"
      ],
      "metadata": {
        "id": "mRmtGW56sdJP"
      },
      "execution_count": 21,
      "outputs": []
    },
    {
      "cell_type": "code",
      "source": [
        "np.random.seed(987)\n",
        "data = ['A', 'B', 'C']*2\n",
        "np.random.shuffle(data)"
      ],
      "metadata": {
        "id": "rCw_hS-YrEeR"
      },
      "execution_count": 28,
      "outputs": []
    },
    {
      "cell_type": "code",
      "source": [
        "data"
      ],
      "metadata": {
        "colab": {
          "base_uri": "https://localhost:8080/"
        },
        "id": "BNfGqiYts5Eh",
        "outputId": "c3dcf0ae-2955-4319-a9ae-d263eeb3d8bc"
      },
      "execution_count": 29,
      "outputs": [
        {
          "output_type": "execute_result",
          "data": {
            "text/plain": [
              "['B', 'A', 'C', 'C', 'B', 'A']"
            ]
          },
          "metadata": {},
          "execution_count": 29
        }
      ]
    },
    {
      "cell_type": "code",
      "source": [
        "cat = pd.Categorical(data)"
      ],
      "metadata": {
        "id": "FGSIOC7PrQpH"
      },
      "execution_count": 30,
      "outputs": []
    },
    {
      "cell_type": "code",
      "source": [
        "cat"
      ],
      "metadata": {
        "colab": {
          "base_uri": "https://localhost:8080/"
        },
        "id": "wxOcNGKTrVNz",
        "outputId": "f369194d-fba9-4f88-9fdf-0dc943fcdb83"
      },
      "execution_count": 31,
      "outputs": [
        {
          "output_type": "execute_result",
          "data": {
            "text/plain": [
              "['B', 'A', 'C', 'C', 'B', 'A']\n",
              "Categories (3, object): ['A', 'B', 'C']"
            ]
          },
          "metadata": {},
          "execution_count": 31
        }
      ]
    },
    {
      "cell_type": "code",
      "source": [
        "cat.categories"
      ],
      "metadata": {
        "colab": {
          "base_uri": "https://localhost:8080/"
        },
        "id": "piqWTxrarV9H",
        "outputId": "b7845cfe-0d09-4909-be28-1c8ca89ca962"
      },
      "execution_count": 32,
      "outputs": [
        {
          "output_type": "execute_result",
          "data": {
            "text/plain": [
              "Index(['A', 'B', 'C'], dtype='object')"
            ]
          },
          "metadata": {},
          "execution_count": 32
        }
      ]
    },
    {
      "cell_type": "code",
      "source": [
        "cat.codes"
      ],
      "metadata": {
        "colab": {
          "base_uri": "https://localhost:8080/"
        },
        "id": "OnSq9qg9rb_5",
        "outputId": "9cd8b344-a049-4777-ada1-005550ae36ee"
      },
      "execution_count": 33,
      "outputs": [
        {
          "output_type": "execute_result",
          "data": {
            "text/plain": [
              "array([1, 0, 2, 2, 1, 0], dtype=int8)"
            ]
          },
          "metadata": {},
          "execution_count": 33
        }
      ]
    },
    {
      "cell_type": "code",
      "source": [
        "cat = pd.Categorical(data, ordered=True)"
      ],
      "metadata": {
        "id": "0guSiTtstdsG"
      },
      "execution_count": 39,
      "outputs": []
    },
    {
      "cell_type": "code",
      "source": [
        "cat"
      ],
      "metadata": {
        "colab": {
          "base_uri": "https://localhost:8080/"
        },
        "id": "UM89CpE7uXLX",
        "outputId": "9dbed7ea-26a4-4b98-9788-08deb46632ac"
      },
      "execution_count": 40,
      "outputs": [
        {
          "output_type": "execute_result",
          "data": {
            "text/plain": [
              "['B', 'A', 'C', 'C', 'B', 'A']\n",
              "Categories (3, object): ['A' < 'B' < 'C']"
            ]
          },
          "metadata": {},
          "execution_count": 40
        }
      ]
    },
    {
      "cell_type": "code",
      "source": [
        "cat = cat.rename_categories(['Bronze','Silver','Gold'])"
      ],
      "metadata": {
        "id": "-opMrgUqreRY"
      },
      "execution_count": 43,
      "outputs": []
    },
    {
      "cell_type": "code",
      "source": [
        "cat"
      ],
      "metadata": {
        "colab": {
          "base_uri": "https://localhost:8080/"
        },
        "id": "cfvuHHTBtMFg",
        "outputId": "f0b0e951-393e-4b8b-b7a7-d533eb1a2c38"
      },
      "execution_count": 44,
      "outputs": [
        {
          "output_type": "execute_result",
          "data": {
            "text/plain": [
              "['Silver', 'Bronze', 'Gold', 'Gold', 'Silver', 'Bronze']\n",
              "Categories (3, object): ['Bronze' < 'Silver' < 'Gold']"
            ]
          },
          "metadata": {},
          "execution_count": 44
        }
      ]
    }
  ]
}